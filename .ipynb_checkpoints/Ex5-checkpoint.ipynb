{
 "cells": [
  {
   "cell_type": "markdown",
   "id": "66a4f0f0",
   "metadata": {},
   "source": [
    "# Ex 5"
   ]
  },
  {
   "cell_type": "code",
   "execution_count": 32,
   "id": "3ef740c2",
   "metadata": {},
   "outputs": [],
   "source": [
    "# Imports\n",
    "import pandas as pd\n",
    "import numpy as np\n",
    "\n",
    "from sklearn.linear_model import LinearRegression"
   ]
  },
  {
   "cell_type": "code",
   "execution_count": 33,
   "id": "732cdf3f",
   "metadata": {},
   "outputs": [
    {
     "data": {
      "text/html": [
       "<div>\n",
       "<style scoped>\n",
       "    .dataframe tbody tr th:only-of-type {\n",
       "        vertical-align: middle;\n",
       "    }\n",
       "\n",
       "    .dataframe tbody tr th {\n",
       "        vertical-align: top;\n",
       "    }\n",
       "\n",
       "    .dataframe thead th {\n",
       "        text-align: right;\n",
       "    }\n",
       "</style>\n",
       "<table border=\"1\" class=\"dataframe\">\n",
       "  <thead>\n",
       "    <tr style=\"text-align: right;\">\n",
       "      <th></th>\n",
       "      <th>used_good</th>\n",
       "      <th>saftey</th>\n",
       "      <th>celebrities</th>\n",
       "      <th>foreign_good</th>\n",
       "      <th>rarely_sit</th>\n",
       "    </tr>\n",
       "  </thead>\n",
       "  <tbody>\n",
       "    <tr>\n",
       "      <th>0</th>\n",
       "      <td>4.0</td>\n",
       "      <td>3.0</td>\n",
       "      <td>1.0</td>\n",
       "      <td>3.0</td>\n",
       "      <td>1.0</td>\n",
       "    </tr>\n",
       "    <tr>\n",
       "      <th>1</th>\n",
       "      <td>2.0</td>\n",
       "      <td>4.0</td>\n",
       "      <td>1.0</td>\n",
       "      <td>NaN</td>\n",
       "      <td>3.0</td>\n",
       "    </tr>\n",
       "    <tr>\n",
       "      <th>2</th>\n",
       "      <td>3.0</td>\n",
       "      <td>3.0</td>\n",
       "      <td>3.0</td>\n",
       "      <td>3.0</td>\n",
       "      <td>NaN</td>\n",
       "    </tr>\n",
       "    <tr>\n",
       "      <th>3</th>\n",
       "      <td>2.0</td>\n",
       "      <td>4.0</td>\n",
       "      <td>1.0</td>\n",
       "      <td>2.0</td>\n",
       "      <td>2.0</td>\n",
       "    </tr>\n",
       "    <tr>\n",
       "      <th>4</th>\n",
       "      <td>2.0</td>\n",
       "      <td>4.0</td>\n",
       "      <td>2.0</td>\n",
       "      <td>5.0</td>\n",
       "      <td>5.0</td>\n",
       "    </tr>\n",
       "  </tbody>\n",
       "</table>\n",
       "</div>"
      ],
      "text/plain": [
       "   used_good  saftey  celebrities  foreign_good  rarely_sit\n",
       "0        4.0     3.0          1.0           3.0         1.0\n",
       "1        2.0     4.0          1.0           NaN         3.0\n",
       "2        3.0     3.0          3.0           3.0         NaN\n",
       "3        2.0     4.0          1.0           2.0         2.0\n",
       "4        2.0     4.0          2.0           5.0         5.0"
      ]
     },
     "execution_count": 33,
     "metadata": {},
     "output_type": "execute_result"
    }
   ],
   "source": [
    "#### Load Data\n",
    "df1 = pd.read_csv('./data.csv')\n",
    "df1.rename(columns = {\n",
    "    'v1_miss':'used_good',\n",
    "    'v2_miss':'saftey',\n",
    "    'v3_miss':'celebrities',\n",
    "    'v4_miss':'foreign_good',\n",
    "    'v5_miss':'rarely_sit'},\n",
    "         inplace = True)\n",
    "df1.head()"
   ]
  },
  {
   "cell_type": "markdown",
   "id": "61342e01",
   "metadata": {},
   "source": [
    "## 1.\tProduce means and standard deviations in a table for the five variables in the data set."
   ]
  },
  {
   "cell_type": "code",
   "execution_count": 45,
   "id": "376fb2d1",
   "metadata": {},
   "outputs": [
    {
     "name": "stdout",
     "output_type": "stream",
     "text": [
      "MEAN\n"
     ]
    },
    {
     "data": {
      "text/html": [
       "<div>\n",
       "<style scoped>\n",
       "    .dataframe tbody tr th:only-of-type {\n",
       "        vertical-align: middle;\n",
       "    }\n",
       "\n",
       "    .dataframe tbody tr th {\n",
       "        vertical-align: top;\n",
       "    }\n",
       "\n",
       "    .dataframe thead th {\n",
       "        text-align: right;\n",
       "    }\n",
       "</style>\n",
       "<table border=\"1\" class=\"dataframe\">\n",
       "  <thead>\n",
       "    <tr style=\"text-align: right;\">\n",
       "      <th></th>\n",
       "      <th>used_good</th>\n",
       "      <th>saftey</th>\n",
       "      <th>celebrities</th>\n",
       "      <th>foreign_good</th>\n",
       "      <th>rarely_sit</th>\n",
       "    </tr>\n",
       "  </thead>\n",
       "  <tbody>\n",
       "    <tr>\n",
       "      <th>NAs</th>\n",
       "      <td>3.128788</td>\n",
       "      <td>3.366412</td>\n",
       "      <td>1.976562</td>\n",
       "      <td>2.20155</td>\n",
       "      <td>2.178862</td>\n",
       "    </tr>\n",
       "  </tbody>\n",
       "</table>\n",
       "</div>"
      ],
      "text/plain": [
       "     used_good    saftey  celebrities  foreign_good  rarely_sit\n",
       "NAs   3.128788  3.366412     1.976562       2.20155    2.178862"
      ]
     },
     "execution_count": 45,
     "metadata": {},
     "output_type": "execute_result"
    }
   ],
   "source": [
    "mean = pd.DataFrame(df1.mean(), columns=['NAs'])\n",
    "std = pd.DataFrame(df1.std(), columns = ['NAs'])\n",
    "print('MEAN')\n",
    "mean.T"
   ]
  },
  {
   "cell_type": "code",
   "execution_count": 46,
   "id": "a52e23ca",
   "metadata": {},
   "outputs": [
    {
     "name": "stdout",
     "output_type": "stream",
     "text": [
      "STD\n"
     ]
    },
    {
     "data": {
      "text/html": [
       "<div>\n",
       "<style scoped>\n",
       "    .dataframe tbody tr th:only-of-type {\n",
       "        vertical-align: middle;\n",
       "    }\n",
       "\n",
       "    .dataframe tbody tr th {\n",
       "        vertical-align: top;\n",
       "    }\n",
       "\n",
       "    .dataframe thead th {\n",
       "        text-align: right;\n",
       "    }\n",
       "</style>\n",
       "<table border=\"1\" class=\"dataframe\">\n",
       "  <thead>\n",
       "    <tr style=\"text-align: right;\">\n",
       "      <th></th>\n",
       "      <th>used_good</th>\n",
       "      <th>saftey</th>\n",
       "      <th>celebrities</th>\n",
       "      <th>foreign_good</th>\n",
       "      <th>rarely_sit</th>\n",
       "    </tr>\n",
       "  </thead>\n",
       "  <tbody>\n",
       "    <tr>\n",
       "      <th>NAs_std</th>\n",
       "      <td>1.213193</td>\n",
       "      <td>1.144929</td>\n",
       "      <td>1.090148</td>\n",
       "      <td>1.134542</td>\n",
       "      <td>1.293315</td>\n",
       "    </tr>\n",
       "  </tbody>\n",
       "</table>\n",
       "</div>"
      ],
      "text/plain": [
       "         used_good    saftey  celebrities  foreign_good  rarely_sit\n",
       "NAs_std   1.213193  1.144929     1.090148      1.134542    1.293315"
      ]
     },
     "execution_count": 46,
     "metadata": {},
     "output_type": "execute_result"
    }
   ],
   "source": [
    "print('STD')\n",
    "std.T"
   ]
  },
  {
   "cell_type": "markdown",
   "id": "84c23409",
   "metadata": {},
   "source": [
    "## 2.\tReplace the missing values for all the variables in the data set using the mean substitution method.  Place that table here…"
   ]
  },
  {
   "cell_type": "code",
   "execution_count": 50,
   "id": "9245e38b",
   "metadata": {},
   "outputs": [
    {
     "data": {
      "text/html": [
       "<div>\n",
       "<style scoped>\n",
       "    .dataframe tbody tr th:only-of-type {\n",
       "        vertical-align: middle;\n",
       "    }\n",
       "\n",
       "    .dataframe tbody tr th {\n",
       "        vertical-align: top;\n",
       "    }\n",
       "\n",
       "    .dataframe thead th {\n",
       "        text-align: right;\n",
       "    }\n",
       "</style>\n",
       "<table border=\"1\" class=\"dataframe\">\n",
       "  <thead>\n",
       "    <tr style=\"text-align: right;\">\n",
       "      <th></th>\n",
       "      <th>used_good</th>\n",
       "      <th>saftey</th>\n",
       "      <th>celebrities</th>\n",
       "      <th>foreign_good</th>\n",
       "      <th>rarely_sit</th>\n",
       "    </tr>\n",
       "  </thead>\n",
       "  <tbody>\n",
       "    <tr>\n",
       "      <th>NAs</th>\n",
       "      <td>3.128788</td>\n",
       "      <td>3.366412</td>\n",
       "      <td>1.976562</td>\n",
       "      <td>2.20155</td>\n",
       "      <td>2.178862</td>\n",
       "    </tr>\n",
       "    <tr>\n",
       "      <th>mean</th>\n",
       "      <td>3.128788</td>\n",
       "      <td>3.366412</td>\n",
       "      <td>1.976562</td>\n",
       "      <td>2.20155</td>\n",
       "      <td>2.178862</td>\n",
       "    </tr>\n",
       "  </tbody>\n",
       "</table>\n",
       "</div>"
      ],
      "text/plain": [
       "      used_good    saftey  celebrities  foreign_good  rarely_sit\n",
       "NAs    3.128788  3.366412     1.976562       2.20155    2.178862\n",
       "mean   3.128788  3.366412     1.976562       2.20155    2.178862"
      ]
     },
     "execution_count": 50,
     "metadata": {},
     "output_type": "execute_result"
    }
   ],
   "source": [
    "df2 = df1.fillna(df1.mean())\n",
    "\n",
    "mean['mean'] = df2.mean()\n",
    "std['mean'] = df2.std()\n",
    "mean.T"
   ]
  },
  {
   "cell_type": "code",
   "execution_count": 51,
   "id": "4ae81be6",
   "metadata": {},
   "outputs": [
    {
     "data": {
      "text/html": [
       "<div>\n",
       "<style scoped>\n",
       "    .dataframe tbody tr th:only-of-type {\n",
       "        vertical-align: middle;\n",
       "    }\n",
       "\n",
       "    .dataframe tbody tr th {\n",
       "        vertical-align: top;\n",
       "    }\n",
       "\n",
       "    .dataframe thead th {\n",
       "        text-align: right;\n",
       "    }\n",
       "</style>\n",
       "<table border=\"1\" class=\"dataframe\">\n",
       "  <thead>\n",
       "    <tr style=\"text-align: right;\">\n",
       "      <th></th>\n",
       "      <th>used_good</th>\n",
       "      <th>saftey</th>\n",
       "      <th>celebrities</th>\n",
       "      <th>foreign_good</th>\n",
       "      <th>rarely_sit</th>\n",
       "    </tr>\n",
       "  </thead>\n",
       "  <tbody>\n",
       "    <tr>\n",
       "      <th>NAs</th>\n",
       "      <td>1.141391</td>\n",
       "      <td>1.073049</td>\n",
       "      <td>1.009849</td>\n",
       "      <td>1.055102</td>\n",
       "      <td>1.174231</td>\n",
       "    </tr>\n",
       "    <tr>\n",
       "      <th>mean</th>\n",
       "      <td>1.141391</td>\n",
       "      <td>1.073049</td>\n",
       "      <td>1.009849</td>\n",
       "      <td>1.055102</td>\n",
       "      <td>1.174231</td>\n",
       "    </tr>\n",
       "  </tbody>\n",
       "</table>\n",
       "</div>"
      ],
      "text/plain": [
       "      used_good    saftey  celebrities  foreign_good  rarely_sit\n",
       "NAs    1.141391  1.073049     1.009849      1.055102    1.174231\n",
       "mean   1.141391  1.073049     1.009849      1.055102    1.174231"
      ]
     },
     "execution_count": 51,
     "metadata": {},
     "output_type": "execute_result"
    }
   ],
   "source": [
    "print('STD')\n",
    "std.T"
   ]
  },
  {
   "cell_type": "markdown",
   "id": "7f0964a0",
   "metadata": {},
   "source": [
    "## 3.\tCompare the means and standard deviations from the original data set table with the mean substitution table.  What should happen to the means?  What should happen to the standard deviations?"
   ]
  },
  {
   "cell_type": "markdown",
   "id": "786da033",
   "metadata": {},
   "source": [
    "- The means should stay the same and the stds should shrink as you are artificially decreasing the variance in the data. This is in fact what is happening"
   ]
  },
  {
   "cell_type": "markdown",
   "id": "6a1d13c5",
   "metadata": {},
   "source": [
    "## 4.\tRun one simple non-multiple imputation models (e.g. just a simple regression model) –  for v3_miss.  Be sure to replace the missing values in v3_miss with the predicted values from the regression.  (I shortened this to just one variable – too much work otherwise I think)."
   ]
  },
  {
   "cell_type": "code",
   "execution_count": 36,
   "id": "afafb15f",
   "metadata": {},
   "outputs": [],
   "source": [
    "# this is code for all variables. "
   ]
  },
  {
   "cell_type": "code",
   "execution_count": 37,
   "id": "6c62931c",
   "metadata": {},
   "outputs": [],
   "source": [
    "lr_df = df1.copy()\n",
    "for col in lr_df.columns:\n",
    "    # Calculate mean for all columns except the specific column\n",
    "    mean_values = lr_df.drop(columns=[col]).mean()\n",
    "\n",
    "    # Fill missing values with mean for all columns except the specific column\n",
    "    non_cel_filled_means = df1.fillna(mean_values)\n",
    "\n",
    "    train = non_cel_filled_means[~non_cel_filled_means[col].isna()]\n",
    "    X_train = train.drop(col, axis = 1)\n",
    "    y_train = train[col]\n",
    "\n",
    "    test = non_cel_filled_means[non_cel_filled_means[col].isna()]\n",
    "\n",
    "    X_test = test.drop(col, axis = 1)\n",
    "\n",
    "    # Fit the regression model\n",
    "    lr = LinearRegression()\n",
    "    lr.fit(X_train, y_train)\n",
    "\n",
    "    # Predict missing 'celebrities' values\n",
    "    preds = lr.predict(X_test)\n",
    "    \n",
    "    # Iterate over the index of the 'test' DataFrame and corresponding predictions\n",
    "    for i, pred in zip(test.index, preds):\n",
    "        lr_df.loc[i, col] = pred"
   ]
  },
  {
   "cell_type": "code",
   "execution_count": 38,
   "id": "accce2b3",
   "metadata": {},
   "outputs": [],
   "source": [
    "# below is code for one variable"
   ]
  },
  {
   "cell_type": "code",
   "execution_count": 39,
   "id": "00fbdad9",
   "metadata": {},
   "outputs": [],
   "source": [
    "# # Calculate mean for all columns except the specific column\n",
    "# mean_values = df1.drop(columns=['celebrities']).mean()\n",
    "\n",
    "# # Fill missing values with mean for all columns except the specific column\n",
    "# non_cel_filled_means = df1.fillna(mean_values)\n",
    "\n",
    "# train = non_cel_filled_means[~non_cel_filled_means['celebrities'].isna()]\n",
    "# X_train = train.drop('celebrities', axis = 1)\n",
    "# y_train = train['celebrities']\n",
    "\n",
    "# test = non_cel_filled_means[non_cel_filled_means['celebrities'].isna()]\n",
    "\n",
    "# X_test = test.drop('celebrities', axis = 1)\n",
    "\n",
    "# # Fit the regression model\n",
    "# lr.fit(X_train, y_train)\n",
    "\n",
    "# # Predict missing 'celebrities' values\n",
    "# preds = lr.predict(X_test)\n",
    "\n",
    "# # Iterate over the index of the 'test' DataFrame and corresponding predictions\n",
    "# for i, pred in zip(test.index, preds):\n",
    "#     df3.loc[i, 'celebrities'] = pred"
   ]
  },
  {
   "cell_type": "markdown",
   "id": "dc58bb8c",
   "metadata": {},
   "source": [
    "## 5.\tCompare the table of means and standard deviations from the original data set to the one constructed in step 4 above.  What do you see?"
   ]
  },
  {
   "cell_type": "code",
   "execution_count": 54,
   "id": "9acd7b30",
   "metadata": {},
   "outputs": [
    {
     "name": "stdout",
     "output_type": "stream",
     "text": [
      "MEAN\n"
     ]
    },
    {
     "data": {
      "text/html": [
       "<div>\n",
       "<style scoped>\n",
       "    .dataframe tbody tr th:only-of-type {\n",
       "        vertical-align: middle;\n",
       "    }\n",
       "\n",
       "    .dataframe tbody tr th {\n",
       "        vertical-align: top;\n",
       "    }\n",
       "\n",
       "    .dataframe thead th {\n",
       "        text-align: right;\n",
       "    }\n",
       "</style>\n",
       "<table border=\"1\" class=\"dataframe\">\n",
       "  <thead>\n",
       "    <tr style=\"text-align: right;\">\n",
       "      <th></th>\n",
       "      <th>used_good</th>\n",
       "      <th>saftey</th>\n",
       "      <th>celebrities</th>\n",
       "      <th>foreign_good</th>\n",
       "      <th>rarely_sit</th>\n",
       "    </tr>\n",
       "  </thead>\n",
       "  <tbody>\n",
       "    <tr>\n",
       "      <th>NAs</th>\n",
       "      <td>3.128788</td>\n",
       "      <td>3.366412</td>\n",
       "      <td>1.976562</td>\n",
       "      <td>2.20155</td>\n",
       "      <td>2.178862</td>\n",
       "    </tr>\n",
       "    <tr>\n",
       "      <th>mean</th>\n",
       "      <td>3.128788</td>\n",
       "      <td>3.366412</td>\n",
       "      <td>1.976562</td>\n",
       "      <td>2.20155</td>\n",
       "      <td>2.178862</td>\n",
       "    </tr>\n",
       "    <tr>\n",
       "      <th>lr</th>\n",
       "      <td>3.128491</td>\n",
       "      <td>3.367260</td>\n",
       "      <td>1.990286</td>\n",
       "      <td>2.19883</td>\n",
       "      <td>2.195361</td>\n",
       "    </tr>\n",
       "  </tbody>\n",
       "</table>\n",
       "</div>"
      ],
      "text/plain": [
       "      used_good    saftey  celebrities  foreign_good  rarely_sit\n",
       "NAs    3.128788  3.366412     1.976562       2.20155    2.178862\n",
       "mean   3.128788  3.366412     1.976562       2.20155    2.178862\n",
       "lr     3.128491  3.367260     1.990286       2.19883    2.195361"
      ]
     },
     "execution_count": 54,
     "metadata": {},
     "output_type": "execute_result"
    }
   ],
   "source": [
    "mean['lr'] = lr_df.mean()\n",
    "std['lr'] = lr_df.std()\n",
    "print('MEAN')\n",
    "mean.T"
   ]
  },
  {
   "cell_type": "code",
   "execution_count": 55,
   "id": "0f55a289",
   "metadata": {},
   "outputs": [
    {
     "name": "stdout",
     "output_type": "stream",
     "text": [
      "STD\n"
     ]
    },
    {
     "data": {
      "text/html": [
       "<div>\n",
       "<style scoped>\n",
       "    .dataframe tbody tr th:only-of-type {\n",
       "        vertical-align: middle;\n",
       "    }\n",
       "\n",
       "    .dataframe tbody tr th {\n",
       "        vertical-align: top;\n",
       "    }\n",
       "\n",
       "    .dataframe thead th {\n",
       "        text-align: right;\n",
       "    }\n",
       "</style>\n",
       "<table border=\"1\" class=\"dataframe\">\n",
       "  <thead>\n",
       "    <tr style=\"text-align: right;\">\n",
       "      <th></th>\n",
       "      <th>used_good</th>\n",
       "      <th>saftey</th>\n",
       "      <th>celebrities</th>\n",
       "      <th>foreign_good</th>\n",
       "      <th>rarely_sit</th>\n",
       "    </tr>\n",
       "  </thead>\n",
       "  <tbody>\n",
       "    <tr>\n",
       "      <th>NAs</th>\n",
       "      <td>1.141391</td>\n",
       "      <td>1.073049</td>\n",
       "      <td>1.009849</td>\n",
       "      <td>1.055102</td>\n",
       "      <td>1.174231</td>\n",
       "    </tr>\n",
       "    <tr>\n",
       "      <th>mean</th>\n",
       "      <td>1.141391</td>\n",
       "      <td>1.073049</td>\n",
       "      <td>1.009849</td>\n",
       "      <td>1.055102</td>\n",
       "      <td>1.174231</td>\n",
       "    </tr>\n",
       "    <tr>\n",
       "      <th>lr</th>\n",
       "      <td>1.143532</td>\n",
       "      <td>1.073814</td>\n",
       "      <td>1.017997</td>\n",
       "      <td>1.062925</td>\n",
       "      <td>1.192424</td>\n",
       "    </tr>\n",
       "  </tbody>\n",
       "</table>\n",
       "</div>"
      ],
      "text/plain": [
       "      used_good    saftey  celebrities  foreign_good  rarely_sit\n",
       "NAs    1.141391  1.073049     1.009849      1.055102    1.174231\n",
       "mean   1.141391  1.073049     1.009849      1.055102    1.174231\n",
       "lr     1.143532  1.073814     1.017997      1.062925    1.192424"
      ]
     },
     "execution_count": 55,
     "metadata": {},
     "output_type": "execute_result"
    }
   ],
   "source": [
    "print('STD')\n",
    "std.T"
   ]
  },
  {
   "cell_type": "markdown",
   "id": "37f0a6f2",
   "metadata": {},
   "source": [
    "## 6.\tRun a multiple imputation model on the five variables – you can pick from multiple imputation regression, mcmc or any other flavor."
   ]
  },
  {
   "cell_type": "code",
   "execution_count": 41,
   "id": "014a79f6",
   "metadata": {},
   "outputs": [],
   "source": [
    "from fancyimpute import IterativeImputer\n",
    "\n",
    "# Create an instance of IterativeImputer\n",
    "chain = IterativeImputer()\n",
    "\n",
    "# Fit the imputer on your dataset\n",
    "chain.fit(df1)\n",
    "\n",
    "# Impute missing values\n",
    "chain_df = chain.transform(df1)"
   ]
  },
  {
   "cell_type": "code",
   "execution_count": 56,
   "id": "ef79c491",
   "metadata": {},
   "outputs": [
    {
     "name": "stdout",
     "output_type": "stream",
     "text": [
      "MEAN\n"
     ]
    },
    {
     "data": {
      "text/html": [
       "<div>\n",
       "<style scoped>\n",
       "    .dataframe tbody tr th:only-of-type {\n",
       "        vertical-align: middle;\n",
       "    }\n",
       "\n",
       "    .dataframe tbody tr th {\n",
       "        vertical-align: top;\n",
       "    }\n",
       "\n",
       "    .dataframe thead th {\n",
       "        text-align: right;\n",
       "    }\n",
       "</style>\n",
       "<table border=\"1\" class=\"dataframe\">\n",
       "  <thead>\n",
       "    <tr style=\"text-align: right;\">\n",
       "      <th></th>\n",
       "      <th>used_good</th>\n",
       "      <th>saftey</th>\n",
       "      <th>celebrities</th>\n",
       "      <th>foreign_good</th>\n",
       "      <th>rarely_sit</th>\n",
       "    </tr>\n",
       "  </thead>\n",
       "  <tbody>\n",
       "    <tr>\n",
       "      <th>NAs</th>\n",
       "      <td>3.128788</td>\n",
       "      <td>3.366412</td>\n",
       "      <td>1.976562</td>\n",
       "      <td>2.201550</td>\n",
       "      <td>2.178862</td>\n",
       "    </tr>\n",
       "    <tr>\n",
       "      <th>mean</th>\n",
       "      <td>3.128788</td>\n",
       "      <td>3.366412</td>\n",
       "      <td>1.976562</td>\n",
       "      <td>2.201550</td>\n",
       "      <td>2.178862</td>\n",
       "    </tr>\n",
       "    <tr>\n",
       "      <th>lr</th>\n",
       "      <td>3.128491</td>\n",
       "      <td>3.367260</td>\n",
       "      <td>1.990286</td>\n",
       "      <td>2.198830</td>\n",
       "      <td>2.195361</td>\n",
       "    </tr>\n",
       "    <tr>\n",
       "      <th>chain_mean</th>\n",
       "      <td>2.576619</td>\n",
       "      <td>2.576619</td>\n",
       "      <td>2.576619</td>\n",
       "      <td>2.576619</td>\n",
       "      <td>2.576619</td>\n",
       "    </tr>\n",
       "  </tbody>\n",
       "</table>\n",
       "</div>"
      ],
      "text/plain": [
       "            used_good    saftey  celebrities  foreign_good  rarely_sit\n",
       "NAs          3.128788  3.366412     1.976562      2.201550    2.178862\n",
       "mean         3.128788  3.366412     1.976562      2.201550    2.178862\n",
       "lr           3.128491  3.367260     1.990286      2.198830    2.195361\n",
       "chain_mean   2.576619  2.576619     2.576619      2.576619    2.576619"
      ]
     },
     "execution_count": 56,
     "metadata": {},
     "output_type": "execute_result"
    }
   ],
   "source": [
    "mean['chain_mean'] = chain_df.mean()\n",
    "std['chain_std'] = chain_df.std()\n",
    "print('MEAN')\n",
    "mean.T"
   ]
  },
  {
   "cell_type": "code",
   "execution_count": 57,
   "id": "78839a4c",
   "metadata": {},
   "outputs": [
    {
     "name": "stdout",
     "output_type": "stream",
     "text": [
      "STD\n"
     ]
    },
    {
     "data": {
      "text/html": [
       "<div>\n",
       "<style scoped>\n",
       "    .dataframe tbody tr th:only-of-type {\n",
       "        vertical-align: middle;\n",
       "    }\n",
       "\n",
       "    .dataframe tbody tr th {\n",
       "        vertical-align: top;\n",
       "    }\n",
       "\n",
       "    .dataframe thead th {\n",
       "        text-align: right;\n",
       "    }\n",
       "</style>\n",
       "<table border=\"1\" class=\"dataframe\">\n",
       "  <thead>\n",
       "    <tr style=\"text-align: right;\">\n",
       "      <th></th>\n",
       "      <th>used_good</th>\n",
       "      <th>saftey</th>\n",
       "      <th>celebrities</th>\n",
       "      <th>foreign_good</th>\n",
       "      <th>rarely_sit</th>\n",
       "    </tr>\n",
       "  </thead>\n",
       "  <tbody>\n",
       "    <tr>\n",
       "      <th>NAs</th>\n",
       "      <td>1.141391</td>\n",
       "      <td>1.073049</td>\n",
       "      <td>1.009849</td>\n",
       "      <td>1.055102</td>\n",
       "      <td>1.174231</td>\n",
       "    </tr>\n",
       "    <tr>\n",
       "      <th>mean</th>\n",
       "      <td>1.141391</td>\n",
       "      <td>1.073049</td>\n",
       "      <td>1.009849</td>\n",
       "      <td>1.055102</td>\n",
       "      <td>1.174231</td>\n",
       "    </tr>\n",
       "    <tr>\n",
       "      <th>lr</th>\n",
       "      <td>1.143532</td>\n",
       "      <td>1.073814</td>\n",
       "      <td>1.017997</td>\n",
       "      <td>1.062925</td>\n",
       "      <td>1.192424</td>\n",
       "    </tr>\n",
       "    <tr>\n",
       "      <th>chain_std</th>\n",
       "      <td>1.229168</td>\n",
       "      <td>1.229168</td>\n",
       "      <td>1.229168</td>\n",
       "      <td>1.229168</td>\n",
       "      <td>1.229168</td>\n",
       "    </tr>\n",
       "  </tbody>\n",
       "</table>\n",
       "</div>"
      ],
      "text/plain": [
       "           used_good    saftey  celebrities  foreign_good  rarely_sit\n",
       "NAs         1.141391  1.073049     1.009849      1.055102    1.174231\n",
       "mean        1.141391  1.073049     1.009849      1.055102    1.174231\n",
       "lr          1.143532  1.073814     1.017997      1.062925    1.192424\n",
       "chain_std   1.229168  1.229168     1.229168      1.229168    1.229168"
      ]
     },
     "execution_count": 57,
     "metadata": {},
     "output_type": "execute_result"
    }
   ],
   "source": [
    "print('STD')\n",
    "std.T"
   ]
  },
  {
   "cell_type": "markdown",
   "id": "a42038f3",
   "metadata": {},
   "source": [
    "## 7.\tCompare the table of means and standard deviations from step 6 with the original data set.  What do you expect?  What do you actually see?"
   ]
  },
  {
   "cell_type": "code",
   "execution_count": null,
   "id": "fa44298b",
   "metadata": {},
   "outputs": [],
   "source": []
  },
  {
   "cell_type": "markdown",
   "id": "dc5b45a5",
   "metadata": {},
   "source": [
    "## 8.\tFor an extra 8 points extra credit, produce a missing values matrix like the one shown in class.  You can use SAS or name your poison in terms of platform as long as it produces a similar matrix."
   ]
  },
  {
   "cell_type": "code",
   "execution_count": null,
   "id": "905813a7",
   "metadata": {},
   "outputs": [],
   "source": []
  }
 ],
 "metadata": {
  "hide_input": false,
  "kernelspec": {
   "display_name": "Python 3 (ipykernel)",
   "language": "python",
   "name": "python3"
  },
  "language_info": {
   "codemirror_mode": {
    "name": "ipython",
    "version": 3
   },
   "file_extension": ".py",
   "mimetype": "text/x-python",
   "name": "python",
   "nbconvert_exporter": "python",
   "pygments_lexer": "ipython3",
   "version": "3.9.12"
  }
 },
 "nbformat": 4,
 "nbformat_minor": 5
}
